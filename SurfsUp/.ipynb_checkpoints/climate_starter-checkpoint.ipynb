{
 "cells": [
  {
   "cell_type": "code",
   "execution_count": 1,
   "metadata": {},
   "outputs": [],
   "source": [
    "%matplotlib inline\n",
    "from matplotlib import style\n",
    "style.use('fivethirtyeight')\n",
    "import matplotlib.pyplot as plt"
   ]
  },
  {
   "cell_type": "code",
   "execution_count": 2,
   "metadata": {},
   "outputs": [],
   "source": [
    "import numpy as np\n",
    "import pandas as pd\n",
    "import datetime as dt"
   ]
  },
  {
   "cell_type": "markdown",
   "metadata": {},
   "source": [
    "# Reflect Tables into SQLAlchemy ORM"
   ]
  },
  {
   "cell_type": "code",
   "execution_count": 3,
   "metadata": {},
   "outputs": [],
   "source": [
    "# Python SQL toolkit and Object Relational Mapper\n",
    "import sqlalchemy\n",
    "from sqlalchemy.ext.automap import automap_base\n",
    "from sqlalchemy.orm import Session\n",
    "from sqlalchemy import create_engine, func, inspect"
   ]
  },
  {
   "cell_type": "code",
   "execution_count": 4,
   "metadata": {},
   "outputs": [],
   "source": [
    "# create engine to hawaii.sqlite\n",
    "engine = create_engine(\"sqlite:///Resources/hawaii.sqlite\")"
   ]
  },
  {
   "cell_type": "code",
   "execution_count": 5,
   "metadata": {},
   "outputs": [
    {
     "data": {
      "text/plain": [
       "['measurement', 'station']"
      ]
     },
     "execution_count": 5,
     "metadata": {},
     "output_type": "execute_result"
    }
   ],
   "source": [
    "# reflect an existing database into a new model\n",
    "Base = automap_base()\n",
    "Base.prepare(engine, reflect=True)\n",
    "\n",
    "# reflect the tables\n",
    "Base.classes.keys()"
   ]
  },
  {
   "cell_type": "code",
   "execution_count": 6,
   "metadata": {},
   "outputs": [
    {
     "data": {
      "text/plain": [
       "['measurement', 'station']"
      ]
     },
     "execution_count": 6,
     "metadata": {},
     "output_type": "execute_result"
    }
   ],
   "source": [
    "# View all of the classes that automap found\n",
    "Base.classes.keys()"
   ]
  },
  {
   "cell_type": "code",
   "execution_count": 7,
   "metadata": {},
   "outputs": [
    {
     "data": {
      "text/plain": [
       "['measurement', 'station']"
      ]
     },
     "execution_count": 7,
     "metadata": {},
     "output_type": "execute_result"
    }
   ],
   "source": [
    "#inspect table names in database\n",
    "tables_in_database = inspect(engine)\n",
    "tables_in_database.get_table_names()"
   ]
  },
  {
   "cell_type": "code",
   "execution_count": 8,
   "metadata": {},
   "outputs": [
    {
     "name": "stdout",
     "output_type": "stream",
     "text": [
      "id INTEGER\n",
      "station TEXT\n",
      "date TEXT\n",
      "prcp FLOAT\n",
      "tobs FLOAT\n"
     ]
    }
   ],
   "source": [
    "#inspect columns for table \"measurement\" (names and data type)\n",
    "columns_in_table_measurement = tables_in_database.get_columns('measurement')\n",
    "for column in columns_in_table_measurement:\n",
    "    print(column[\"name\"], column[\"type\"])\n"
   ]
  },
  {
   "cell_type": "code",
   "execution_count": 9,
   "metadata": {},
   "outputs": [
    {
     "name": "stdout",
     "output_type": "stream",
     "text": [
      "id INTEGER\n",
      "station TEXT\n",
      "name TEXT\n",
      "latitude FLOAT\n",
      "longitude FLOAT\n",
      "elevation FLOAT\n"
     ]
    }
   ],
   "source": [
    "#inspect columns for table \"station\" (names and data type)\n",
    "columns_in_table_station = tables_in_database.get_columns('station')\n",
    "for column in columns_in_table_station:\n",
    "    print(column[\"name\"], column[\"type\"])"
   ]
  },
  {
   "cell_type": "code",
   "execution_count": 10,
   "metadata": {},
   "outputs": [],
   "source": [
    "# Save references to each table\n",
    "Measurement = Base.classes.measurement\n",
    "Station = Base.classes.station"
   ]
  },
  {
   "cell_type": "code",
   "execution_count": 11,
   "metadata": {},
   "outputs": [],
   "source": [
    "# Create our session (link) from Python to the DB\n",
    "session = Session(engine)"
   ]
  },
  {
   "cell_type": "markdown",
   "metadata": {},
   "source": [
    "# Exploratory Precipitation Analysis"
   ]
  },
  {
   "cell_type": "code",
   "execution_count": 12,
   "metadata": {},
   "outputs": [
    {
     "data": {
      "text/plain": [
       "('2017-08-23',)"
      ]
     },
     "execution_count": 12,
     "metadata": {},
     "output_type": "execute_result"
    }
   ],
   "source": [
    "# Find the most recent date in the data set.\n",
    "session.query(Measurement.date).order_by(Measurement.date.desc()).first()"
   ]
  },
  {
   "cell_type": "code",
   "execution_count": 13,
   "metadata": {},
   "outputs": [
    {
     "name": "stdout",
     "output_type": "stream",
     "text": [
      "('2017-08-23',)\n",
      "2016-08-23\n"
     ]
    },
    {
     "data": {
      "image/png": "[encoded data removed]",
      "text/plain": [
       "<Figure size 640x480 with 1 Axes>"
      ]
     },
     "metadata": {},
     "output_type": "display_data"
    }
   ],
   "source": [
    "# Design a query to retrieve the last 12 months of precipitation data and plot the results. \n",
    "# Starting from the most recent data point in the database. \n",
    "\n",
    "most_recent_date = session.query(Measurement.date).order_by(Measurement.date.desc()).first()\n",
    "print(most_recent_date)\n",
    "\n",
    "# Calculate the date one year from the last date in data set.\n",
    "date_one_year_ago = dt.date(2017, 8, 23) - dt.timedelta(days=365)\n",
    "print(date_one_year_ago)\n",
    "\n",
    "# Perform a query to retrieve the date and precipitation scores\n",
    "parameters_to_retrieve = [Measurement.date, Measurement.prcp]\n",
    "\n",
    "data_for_one_year = session.query(*parameters_to_retrieve).\\\n",
    "        filter(func.strftime(Measurement.date) > \"2016-08-22\").\\\n",
    "        filter(func.strftime(Measurement.date) < \"2017-08-24\").all()\n",
    "\n",
    "data_for_one_year\n",
    "\n",
    "# Save the query results as a Pandas DataFrame. Explicitly set the column names\n",
    "data_for_one_year_df = pd.DataFrame(data_for_one_year, columns=['date', 'prcp'])\n",
    "data_for_one_year_df.dropna(inplace=True)\n",
    "data_for_one_year_df.head()\n",
    "\n",
    "\n",
    "# Sort the dataframe by date\n",
    "data_for_one_year_df[\"date\"] = pd.to_datetime(data_for_one_year_df[\"date\"])\n",
    "data_for_one_year_sorted_df = data_for_one_year_df.sort_values(by=['date'])\n",
    "data_for_one_year_sorted_df.set_index('date', inplace=True)\n",
    "plt.bar(data_for_one_year_sorted_df.index, data_for_one_year_sorted_df[\"prcp\"], width=3)\n",
    "plt.xlabel('Date')\n",
    "plt.ylabel('mm')\n",
    "plt.legend(['Percipitation'], loc='upper center')\n",
    "plt.xticks(rotation=90)\n",
    "plt.tight_layout()\n",
    "plt.show()\n",
    "\n"
   ]
  },
  {
   "cell_type": "code",
   "execution_count": 14,
   "metadata": {},
   "outputs": [
    {
     "data": {
      "text/html": [
       "<div>\n",
       "<style scoped>\n",
       "    .dataframe tbody tr th:only-of-type {\n",
       "        vertical-align: middle;\n",
       "    }\n",
       "\n",
       "    .dataframe tbody tr th {\n",
       "        vertical-align: top;\n",
       "    }\n",
       "\n",
       "    .dataframe thead th {\n",
       "        text-align: right;\n",
       "    }\n",
       "</style>\n",
       "<table border=\"1\" class=\"dataframe\">\n",
       "  <thead>\n",
       "    <tr style=\"text-align: right;\">\n",
       "      <th></th>\n",
       "      <th>Parameter</th>\n",
       "    </tr>\n",
       "  </thead>\n",
       "  <tbody>\n",
       "    <tr>\n",
       "      <th>count</th>\n",
       "      <td>2021.000000</td>\n",
       "    </tr>\n",
       "    <tr>\n",
       "      <th>mean</th>\n",
       "      <td>4.505888</td>\n",
       "    </tr>\n",
       "    <tr>\n",
       "      <th>std</th>\n",
       "      <td>11.713487</td>\n",
       "    </tr>\n",
       "    <tr>\n",
       "      <th>min</th>\n",
       "      <td>0.000000</td>\n",
       "    </tr>\n",
       "    <tr>\n",
       "      <th>25%</th>\n",
       "      <td>0.000000</td>\n",
       "    </tr>\n",
       "    <tr>\n",
       "      <th>50%</th>\n",
       "      <td>0.500000</td>\n",
       "    </tr>\n",
       "    <tr>\n",
       "      <th>75%</th>\n",
       "      <td>3.300000</td>\n",
       "    </tr>\n",
       "    <tr>\n",
       "      <th>max</th>\n",
       "      <td>170.200000</td>\n",
       "    </tr>\n",
       "  </tbody>\n",
       "</table>\n",
       "</div>"
      ],
      "text/plain": [
       "         Parameter\n",
       "count  2021.000000\n",
       "mean      4.505888\n",
       "std      11.713487\n",
       "min       0.000000\n",
       "25%       0.000000\n",
       "50%       0.500000\n",
       "75%       3.300000\n",
       "max     170.200000"
      ]
     },
     "execution_count": 14,
     "metadata": {},
     "output_type": "execute_result"
    }
   ],
   "source": [
    "# Use Pandas to calculate the summary statistics for the precipitation data\n",
    "#define any empty list to append all calculated prameters\n",
    "parameters_values_list = []\n",
    "\n",
    "#calculate count\n",
    "count = data_for_one_year_sorted_df[\"prcp\"].count()\n",
    "parameters_values_list.append(count)\n",
    "\n",
    "#calculate mean\n",
    "mean = data_for_one_year_sorted_df[\"prcp\"].mean()\n",
    "parameters_values_list.append(mean)\n",
    "\n",
    "#calculate Std Dev\n",
    "std_dev = data_for_one_year_sorted_df[\"prcp\"].std()\n",
    "parameters_values_list.append(std_dev)\n",
    "\n",
    "#calculate minimum\n",
    "minimum = data_for_one_year_sorted_df[\"prcp\"].min()\n",
    "parameters_values_list.append(minimum)\n",
    "\n",
    "#calculate quartiles (25%, 50% and 75%)\n",
    "quartiles = data_for_one_year_sorted_df[\"prcp\"].quantile([0.25, 0.5, 0.75])\n",
    "lowerq = quartiles[0.25]\n",
    "parameters_values_list.append(lowerq)\n",
    "midq = quartiles[0.5]\n",
    "parameters_values_list.append(midq)\n",
    "upperq = quartiles[0.75]\n",
    "parameters_values_list.append(upperq)\n",
    "\n",
    "#calculate maximum\n",
    "maximum = data_for_one_year_sorted_df[\"prcp\"].max()\n",
    "parameters_values_list.append(maximum)\n",
    "\n",
    "#DataFrame to hold all parameter\n",
    "statistcs_df = pd.DataFrame(parameters_values_list, index=[\"count\", \"mean\", \"std\", \"min\", \"25%\", \"50%\", \"75%\", \"max\"], columns=[\"Parameter\"])\n",
    "statistcs_df"
   ]
  },
  {
   "cell_type": "markdown",
   "metadata": {},
   "source": [
    "# Exploratory Station Analysis"
   ]
  },
  {
   "cell_type": "code",
   "execution_count": 15,
   "metadata": {},
   "outputs": [
    {
     "data": {
      "text/plain": [
       "[(9,)]"
      ]
     },
     "execution_count": 15,
     "metadata": {},
     "output_type": "execute_result"
    }
   ],
   "source": [
    "# Design a query to calculate the total number of stations in the dataset\n",
    "number_of_stations = session.query(Measurement.station).group_by(Measurement.station).count()\n",
    "number_of_stations\n",
    "\n",
    "# Or, another way is as below\n",
    "total_number_of_stations = session.query(func.count(Station.station)).all()\n",
    "total_number_of_stations"
   ]
  },
  {
   "cell_type": "code",
   "execution_count": 16,
   "metadata": {},
   "outputs": [
    {
     "data": {
      "text/plain": [
       "[('USC00519281', 2772),\n",
       " ('USC00519397', 2724),\n",
       " ('USC00513117', 2709),\n",
       " ('USC00519523', 2669),\n",
       " ('USC00516128', 2612),\n",
       " ('USC00514830', 2202),\n",
       " ('USC00511918', 1979),\n",
       " ('USC00517948', 1372),\n",
       " ('USC00518838', 511)]"
      ]
     },
     "execution_count": 16,
     "metadata": {},
     "output_type": "execute_result"
    }
   ],
   "source": [
    "# Design a query to find the most active stations (i.e. which stations have the most rows?)\n",
    "# List the stations and their counts in descending order.\n",
    "order_of_stations = [Measurement.station, func.count(Measurement.station)]\n",
    "\n",
    "Order_of_stations = session.query(*order_of_stations).group_by(Measurement.station).order_by(func.count(Measurement.station).desc()).all()\n",
    "Order_of_stations"
   ]
  },
  {
   "cell_type": "markdown",
   "metadata": {},
   "source": [
    "Station USC00519281 has greatest number of observations."
   ]
  },
  {
   "cell_type": "code",
   "execution_count": 17,
   "metadata": {},
   "outputs": [
    {
     "data": {
      "text/plain": [
       "[('USC00519281', 12.2, 29.4, 22.03582251082252)]"
      ]
     },
     "execution_count": 17,
     "metadata": {},
     "output_type": "execute_result"
    }
   ],
   "source": [
    "# Using the most active station id from the previous query, calculate the lowest, highest, and average temperature.\n",
    "for_most_active_station = [Measurement.station, func.min(Measurement.tobs), func.max(Measurement.tobs), func.avg(Measurement.tobs)]\n",
    "\n",
    "Data_for_most_active_station = session.query(*for_most_active_station).filter(Measurement.station == 'USC00519281').all()\n",
    "Data_for_most_active_station"
   ]
  },
  {
   "cell_type": "code",
   "execution_count": 18,
   "metadata": {},
   "outputs": [
    {
     "data": {
      "text/plain": [
       "[('USC00519281', '2016-08-23', 25.0),\n",
       " ('USC00519281', '2016-08-24', 25.0),\n",
       " ('USC00519281', '2016-08-25', 26.7),\n",
       " ('USC00519281', '2016-08-26', 26.7),\n",
       " ('USC00519281', '2016-08-27', 23.9),\n",
       " ('USC00519281', '2016-08-28', 22.8),\n",
       " ('USC00519281', '2016-08-29', 25.6),\n",
       " ('USC00519281', '2016-08-30', 25.0),\n",
       " ('USC00519281', '2016-08-31', 25.6),\n",
       " ('USC00519281', '2016-09-01', 26.7),\n",
       " ('USC00519281', '2016-09-02', 26.7),\n",
       " ('USC00519281', '2016-09-03', 25.6),\n",
       " ('USC00519281', '2016-09-04', 25.6),\n",
       " ('USC00519281', '2016-09-05', 25.6),\n",
       " ('USC00519281', '2016-09-06', 22.8),\n",
       " ('USC00519281', '2016-09-07', 23.3),\n",
       " ('USC00519281', '2016-09-08', 26.7),\n",
       " ('USC00519281', '2016-09-09', 26.1),\n",
       " ('USC00519281', '2016-09-10', 25.0),\n",
       " ('USC00519281', '2016-09-11', 26.7),\n",
       " ('USC00519281', '2016-09-12', 24.4),\n",
       " ('USC00519281', '2016-09-13', 26.1),\n",
       " ('USC00519281', '2016-09-14', 23.9),\n",
       " ('USC00519281', '2016-09-15', 26.1),\n",
       " ('USC00519281', '2016-09-16', 25.6),\n",
       " ('USC00519281', '2016-09-17', 26.1),\n",
       " ('USC00519281', '2016-09-18', 25.6),\n",
       " ('USC00519281', '2016-09-19', 25.6),\n",
       " ('USC00519281', '2016-09-20', 24.4),\n",
       " ('USC00519281', '2016-09-21', 23.3),\n",
       " ('USC00519281', '2016-09-22', 25.0),\n",
       " ('USC00519281', '2016-09-23', 25.6),\n",
       " ('USC00519281', '2016-09-24', 26.1),\n",
       " ('USC00519281', '2016-09-25', 26.1),\n",
       " ('USC00519281', '2016-09-26', 25.0),\n",
       " ('USC00519281', '2016-09-27', 26.7),\n",
       " ('USC00519281', '2016-09-28', 25.6),\n",
       " ('USC00519281', '2016-09-29', 25.6),\n",
       " ('USC00519281', '2016-09-30', 25.6),\n",
       " ('USC00519281', '2016-10-01', 25.0),\n",
       " ('USC00519281', '2016-10-02', 26.1),\n",
       " ('USC00519281', '2016-10-03', 26.1),\n",
       " ('USC00519281', '2016-10-04', 26.1),\n",
       " ('USC00519281', '2016-10-05', 26.1),\n",
       " ('USC00519281', '2016-10-06', 23.9),\n",
       " ('USC00519281', '2016-10-07', 24.4),\n",
       " ('USC00519281', '2016-10-08', 22.8),\n",
       " ('USC00519281', '2016-10-09', 22.2),\n",
       " ('USC00519281', '2016-10-10', 21.7),\n",
       " ('USC00519281', '2016-10-11', 25.0),\n",
       " ('USC00519281', '2016-10-12', 26.1),\n",
       " ('USC00519281', '2016-10-13', 25.6),\n",
       " ('USC00519281', '2016-10-14', 26.1),\n",
       " ('USC00519281', '2016-10-15', 25.0),\n",
       " ('USC00519281', '2016-10-16', 26.1),\n",
       " ('USC00519281', '2016-10-17', 25.0),\n",
       " ('USC00519281', '2016-10-18', 25.6),\n",
       " ('USC00519281', '2016-10-19', 25.6),\n",
       " ('USC00519281', '2016-10-20', 25.6),\n",
       " ('USC00519281', '2016-10-21', 25.6),\n",
       " ('USC00519281', '2016-10-22', 25.0),\n",
       " ('USC00519281', '2016-10-23', 23.3),\n",
       " ('USC00519281', '2016-10-24', 23.9),\n",
       " ('USC00519281', '2016-10-25', 24.4),\n",
       " ('USC00519281', '2016-10-26', 22.8),\n",
       " ('USC00519281', '2016-10-27', 24.4),\n",
       " ('USC00519281', '2016-10-28', 23.3),\n",
       " ('USC00519281', '2016-10-29', 25.0),\n",
       " ('USC00519281', '2016-10-30', 24.4),\n",
       " ('USC00519281', '2016-10-31', 24.4),\n",
       " ('USC00519281', '2016-11-01', 23.3),\n",
       " ('USC00519281', '2016-11-02', 23.9),\n",
       " ('USC00519281', '2016-11-03', 23.9),\n",
       " ('USC00519281', '2016-11-04', 23.9),\n",
       " ('USC00519281', '2016-11-05', 23.9),\n",
       " ('USC00519281', '2016-11-06', 21.7),\n",
       " ('USC00519281', '2016-11-07', 17.2),\n",
       " ('USC00519281', '2016-11-08', 21.1),\n",
       " ('USC00519281', '2016-11-09', 20.0),\n",
       " ('USC00519281', '2016-11-10', 19.4),\n",
       " ('USC00519281', '2016-11-11', 25.0),\n",
       " ('USC00519281', '2016-11-12', 23.3),\n",
       " ('USC00519281', '2016-11-13', 25.0),\n",
       " ('USC00519281', '2016-11-14', 24.4),\n",
       " ('USC00519281', '2016-11-15', 24.4),\n",
       " ('USC00519281', '2016-11-16', 23.9),\n",
       " ('USC00519281', '2016-11-17', 24.4),\n",
       " ('USC00519281', '2016-11-18', 23.9),\n",
       " ('USC00519281', '2016-11-19', 22.8),\n",
       " ('USC00519281', '2016-11-20', 23.9),\n",
       " ('USC00519281', '2016-11-21', 22.8),\n",
       " ('USC00519281', '2016-11-22', 23.9),\n",
       " ('USC00519281', '2016-11-23', 23.3),\n",
       " ('USC00519281', '2016-11-24', 23.9),\n",
       " ('USC00519281', '2016-11-25', 23.3),\n",
       " ('USC00519281', '2016-11-26', 23.9),\n",
       " ('USC00519281', '2016-11-27', 22.8),\n",
       " ('USC00519281', '2016-11-28', 23.9),\n",
       " ('USC00519281', '2016-11-29', 22.8),\n",
       " ('USC00519281', '2016-11-30', 22.8),\n",
       " ('USC00519281', '2016-12-01', 23.3),\n",
       " ('USC00519281', '2016-12-02', 21.1),\n",
       " ('USC00519281', '2016-12-03', 22.2),\n",
       " ('USC00519281', '2016-12-04', 21.1),\n",
       " ('USC00519281', '2016-12-05', 19.4),\n",
       " ('USC00519281', '2016-12-06', 19.4),\n",
       " ('USC00519281', '2016-12-07', 20.6),\n",
       " ('USC00519281', '2016-12-08', 21.1),\n",
       " ('USC00519281', '2016-12-09', 20.0),\n",
       " ('USC00519281', '2016-12-10', 20.6),\n",
       " ('USC00519281', '2016-12-11', 20.6),\n",
       " ('USC00519281', '2016-12-12', 18.9),\n",
       " ('USC00519281', '2016-12-13', 18.3),\n",
       " ('USC00519281', '2016-12-14', 20.0),\n",
       " ('USC00519281', '2016-12-15', 16.7),\n",
       " ('USC00519281', '2016-12-16', 23.9),\n",
       " ('USC00519281', '2016-12-17', 21.1),\n",
       " ('USC00519281', '2016-12-18', 20.6),\n",
       " ('USC00519281', '2016-12-19', 24.4),\n",
       " ('USC00519281', '2016-12-20', 24.4),\n",
       " ('USC00519281', '2016-12-21', 23.3),\n",
       " ('USC00519281', '2016-12-22', 22.8),\n",
       " ('USC00519281', '2016-12-23', 21.7),\n",
       " ('USC00519281', '2016-12-24', 23.3),\n",
       " ('USC00519281', '2016-12-25', 23.3),\n",
       " ('USC00519281', '2016-12-26', 22.2),\n",
       " ('USC00519281', '2016-12-27', 21.7),\n",
       " ('USC00519281', '2016-12-28', 22.2),\n",
       " ('USC00519281', '2016-12-29', 23.3),\n",
       " ('USC00519281', '2016-12-30', 20.6),\n",
       " ('USC00519281', '2016-12-31', 19.4),\n",
       " ('USC00519281', '2017-01-01', 22.2),\n",
       " ('USC00519281', '2017-01-02', 21.1),\n",
       " ('USC00519281', '2017-01-03', 17.8),\n",
       " ('USC00519281', '2017-01-04', 17.2),\n",
       " ('USC00519281', '2017-01-05', 17.2),\n",
       " ('USC00519281', '2017-01-06', 16.7),\n",
       " ('USC00519281', '2017-01-07', 21.1),\n",
       " ('USC00519281', '2017-01-08', 21.1),\n",
       " ('USC00519281', '2017-01-09', 16.7),\n",
       " ('USC00519281', '2017-01-10', 16.7),\n",
       " ('USC00519281', '2017-01-11', 17.2),\n",
       " ('USC00519281', '2017-01-12', 18.3),\n",
       " ('USC00519281', '2017-01-13', 20.6),\n",
       " ('USC00519281', '2017-01-14', 25.0),\n",
       " ('USC00519281', '2017-01-15', 21.1),\n",
       " ('USC00519281', '2017-01-16', 23.3),\n",
       " ('USC00519281', '2017-01-17', 20.6),\n",
       " ('USC00519281', '2017-01-18', 22.2),\n",
       " ('USC00519281', '2017-01-19', 21.7),\n",
       " ('USC00519281', '2017-01-20', 20.6),\n",
       " ('USC00519281', '2017-01-21', 21.7),\n",
       " ('USC00519281', '2017-01-22', 21.7),\n",
       " ('USC00519281', '2017-01-23', 22.2),\n",
       " ('USC00519281', '2017-01-24', 22.2),\n",
       " ('USC00519281', '2017-01-25', 20.6),\n",
       " ('USC00519281', '2017-01-26', 21.1),\n",
       " ('USC00519281', '2017-01-27', 18.9),\n",
       " ('USC00519281', '2017-01-28', 18.3),\n",
       " ('USC00519281', '2017-01-29', 20.6),\n",
       " ('USC00519281', '2017-01-30', 20.0),\n",
       " ('USC00519281', '2017-01-31', 20.0),\n",
       " ('USC00519281', '2017-02-01', 20.0),\n",
       " ('USC00519281', '2017-02-02', 15.0),\n",
       " ('USC00519281', '2017-02-03', 15.6),\n",
       " ('USC00519281', '2017-02-04', 21.1),\n",
       " ('USC00519281', '2017-02-05', 22.8),\n",
       " ('USC00519281', '2017-02-06', 23.9),\n",
       " ('USC00519281', '2017-02-07', 17.8),\n",
       " ('USC00519281', '2017-02-08', 15.0),\n",
       " ('USC00519281', '2017-02-09', 15.0),\n",
       " ('USC00519281', '2017-02-10', 16.7),\n",
       " ('USC00519281', '2017-02-11', 20.0),\n",
       " ('USC00519281', '2017-02-12', 21.1),\n",
       " ('USC00519281', '2017-02-13', 22.8),\n",
       " ('USC00519281', '2017-02-14', 26.1),\n",
       " ('USC00519281', '2017-02-15', 23.9),\n",
       " ('USC00519281', '2017-02-16', 18.3),\n",
       " ('USC00519281', '2017-02-17', 21.1),\n",
       " ('USC00519281', '2017-02-18', 23.3),\n",
       " ('USC00519281', '2017-02-19', 21.1),\n",
       " ('USC00519281', '2017-02-20', 21.1),\n",
       " ('USC00519281', '2017-02-21', 21.7),\n",
       " ('USC00519281', '2017-02-22', 21.7),\n",
       " ('USC00519281', '2017-02-23', 21.7),\n",
       " ('USC00519281', '2017-02-24', 20.6),\n",
       " ('USC00519281', '2017-02-25', 16.1),\n",
       " ('USC00519281', '2017-02-26', 19.4),\n",
       " ('USC00519281', '2017-02-27', 18.3),\n",
       " ('USC00519281', '2017-02-28', 22.2),\n",
       " ('USC00519281', '2017-03-01', 21.7),\n",
       " ('USC00519281', '2017-03-02', 22.8),\n",
       " ('USC00519281', '2017-03-03', 22.2),\n",
       " ('USC00519281', '2017-03-04', 25.0),\n",
       " ('USC00519281', '2017-03-05', 22.8),\n",
       " ('USC00519281', '2017-03-06', 19.4),\n",
       " ('USC00519281', '2017-03-07', 16.7),\n",
       " ('USC00519281', '2017-03-08', 17.8),\n",
       " ('USC00519281', '2017-03-09', 19.4),\n",
       " ('USC00519281', '2017-03-10', 18.9),\n",
       " ('USC00519281', '2017-03-11', 27.2),\n",
       " ('USC00519281', '2017-03-12', 20.6),\n",
       " ('USC00519281', '2017-03-13', 18.9),\n",
       " ('USC00519281', '2017-03-14', 19.4),\n",
       " ('USC00519281', '2017-03-15', 20.6),\n",
       " ('USC00519281', '2017-03-16', 18.9),\n",
       " ('USC00519281', '2017-03-17', 20.0),\n",
       " ('USC00519281', '2017-03-18', 18.3),\n",
       " ('USC00519281', '2017-03-19', 23.3),\n",
       " ('USC00519281', '2017-03-20', 20.6),\n",
       " ('USC00519281', '2017-03-21', 22.2),\n",
       " ('USC00519281', '2017-03-22', 22.8),\n",
       " ('USC00519281', '2017-03-23', 22.2),\n",
       " ('USC00519281', '2017-03-24', 21.7),\n",
       " ('USC00519281', '2017-03-25', 24.4),\n",
       " ('USC00519281', '2017-03-26', 25.0),\n",
       " ('USC00519281', '2017-03-27', 24.4),\n",
       " ('USC00519281', '2017-03-28', 23.3),\n",
       " ('USC00519281', '2017-03-29', 20.0),\n",
       " ('USC00519281', '2017-03-30', 22.8),\n",
       " ('USC00519281', '2017-03-31', 21.7),\n",
       " ('USC00519281', '2017-04-01', 23.3),\n",
       " ('USC00519281', '2017-04-02', 23.9),\n",
       " ('USC00519281', '2017-04-03', 21.1),\n",
       " ('USC00519281', '2017-04-04', 19.4),\n",
       " ('USC00519281', '2017-04-05', 21.7),\n",
       " ('USC00519281', '2017-04-06', 19.4),\n",
       " ('USC00519281', '2017-04-07', 23.3),\n",
       " ('USC00519281', '2017-04-08', 25.0),\n",
       " ('USC00519281', '2017-04-09', 25.6),\n",
       " ('USC00519281', '2017-04-10', 19.4),\n",
       " ('USC00519281', '2017-04-11', 21.1),\n",
       " ('USC00519281', '2017-04-12', 20.6),\n",
       " ('USC00519281', '2017-04-13', 20.6),\n",
       " ('USC00519281', '2017-04-14', 23.3),\n",
       " ('USC00519281', '2017-04-15', 25.6),\n",
       " ('USC00519281', '2017-04-16', 21.7),\n",
       " ('USC00519281', '2017-04-17', 19.4),\n",
       " ('USC00519281', '2017-04-18', 20.0),\n",
       " ('USC00519281', '2017-04-19', 19.4),\n",
       " ('USC00519281', '2017-04-20', 24.4),\n",
       " ('USC00519281', '2017-04-21', 20.6),\n",
       " ('USC00519281', '2017-04-22', 22.2),\n",
       " ('USC00519281', '2017-04-23', 24.4),\n",
       " ('USC00519281', '2017-04-24', 20.0),\n",
       " ('USC00519281', '2017-04-25', 22.2),\n",
       " ('USC00519281', '2017-04-26', 23.3),\n",
       " ('USC00519281', '2017-04-27', 21.1),\n",
       " ('USC00519281', '2017-04-28', 19.4),\n",
       " ('USC00519281', '2017-04-29', 22.2),\n",
       " ('USC00519281', '2017-04-30', 15.6),\n",
       " ('USC00519281', '2017-05-01', 18.3),\n",
       " ('USC00519281', '2017-05-02', 23.9),\n",
       " ('USC00519281', '2017-05-03', 21.1),\n",
       " ('USC00519281', '2017-05-04', 23.9),\n",
       " ('USC00519281', '2017-05-05', 21.1),\n",
       " ('USC00519281', '2017-05-06', 26.1),\n",
       " ('USC00519281', '2017-05-07', 23.9),\n",
       " ('USC00519281', '2017-05-08', 21.1),\n",
       " ('USC00519281', '2017-05-09', 19.4),\n",
       " ('USC00519281', '2017-05-10', 23.3),\n",
       " ('USC00519281', '2017-05-11', 21.1),\n",
       " ('USC00519281', '2017-05-12', 23.9),\n",
       " ('USC00519281', '2017-05-13', 24.4),\n",
       " ('USC00519281', '2017-05-14', 25.0),\n",
       " ('USC00519281', '2017-05-15', 23.3),\n",
       " ('USC00519281', '2017-05-16', 23.3),\n",
       " ('USC00519281', '2017-05-17', 23.3),\n",
       " ('USC00519281', '2017-05-18', 20.6),\n",
       " ('USC00519281', '2017-05-19', 20.0),\n",
       " ('USC00519281', '2017-05-20', 24.4),\n",
       " ('USC00519281', '2017-05-21', 23.3),\n",
       " ('USC00519281', '2017-05-22', 21.7),\n",
       " ('USC00519281', '2017-05-23', 21.7),\n",
       " ('USC00519281', '2017-05-24', 23.3),\n",
       " ('USC00519281', '2017-05-25', 23.3),\n",
       " ('USC00519281', '2017-05-26', 23.3),\n",
       " ('USC00519281', '2017-05-27', 23.3),\n",
       " ('USC00519281', '2017-05-28', 26.7),\n",
       " ('USC00519281', '2017-05-29', 23.3),\n",
       " ('USC00519281', '2017-05-30', 22.2),\n",
       " ('USC00519281', '2017-05-31', 23.9),\n",
       " ('USC00519281', '2017-06-01', 26.7),\n",
       " ('USC00519281', '2017-06-02', 24.4),\n",
       " ('USC00519281', '2017-06-03', 24.4),\n",
       " ('USC00519281', '2017-06-04', 25.0),\n",
       " ('USC00519281', '2017-06-05', 23.9),\n",
       " ('USC00519281', '2017-06-06', 23.9),\n",
       " ('USC00519281', '2017-06-07', 23.9),\n",
       " ('USC00519281', '2017-06-08', 23.9),\n",
       " ('USC00519281', '2017-06-09', 22.2),\n",
       " ('USC00519281', '2017-06-10', 23.3),\n",
       " ('USC00519281', '2017-06-11', 23.3),\n",
       " ('USC00519281', '2017-06-12', 23.3),\n",
       " ('USC00519281', '2017-06-13', 24.4),\n",
       " ('USC00519281', '2017-06-14', 23.3),\n",
       " ('USC00519281', '2017-06-15', 23.9),\n",
       " ('USC00519281', '2017-06-16', 22.8),\n",
       " ('USC00519281', '2017-06-17', 26.1),\n",
       " ('USC00519281', '2017-06-18', 23.9),\n",
       " ('USC00519281', '2017-06-19', 22.2),\n",
       " ('USC00519281', '2017-06-20', 22.2),\n",
       " ('USC00519281', '2017-06-21', 23.3),\n",
       " ('USC00519281', '2017-06-22', 22.2),\n",
       " ('USC00519281', '2017-06-23', 22.2),\n",
       " ('USC00519281', '2017-06-24', 25.0),\n",
       " ('USC00519281', '2017-06-25', 21.7),\n",
       " ('USC00519281', '2017-06-26', 22.8),\n",
       " ('USC00519281', '2017-06-27', 24.4),\n",
       " ('USC00519281', '2017-06-28', 25.0),\n",
       " ('USC00519281', '2017-06-29', 24.4),\n",
       " ('USC00519281', '2017-06-30', 24.4),\n",
       " ('USC00519281', '2017-07-01', 26.1),\n",
       " ('USC00519281', '2017-07-02', 27.2),\n",
       " ('USC00519281', '2017-07-03', 24.4),\n",
       " ('USC00519281', '2017-07-04', 25.6),\n",
       " ('USC00519281', '2017-07-05', 25.0),\n",
       " ('USC00519281', '2017-07-06', 23.3),\n",
       " ('USC00519281', '2017-07-07', 23.9),\n",
       " ('USC00519281', '2017-07-08', 25.6),\n",
       " ('USC00519281', '2017-07-09', 25.6),\n",
       " ('USC00519281', '2017-07-10', 20.6),\n",
       " ('USC00519281', '2017-07-11', 22.2),\n",
       " ('USC00519281', '2017-07-12', 23.3),\n",
       " ('USC00519281', '2017-07-13', 23.3),\n",
       " ('USC00519281', '2017-07-14', 24.4),\n",
       " ('USC00519281', '2017-07-15', 26.7),\n",
       " ('USC00519281', '2017-07-16', 26.7),\n",
       " ('USC00519281', '2017-07-17', 24.4),\n",
       " ('USC00519281', '2017-07-18', 24.4),\n",
       " ('USC00519281', '2017-07-19', 24.4),\n",
       " ('USC00519281', '2017-07-20', 25.0),\n",
       " ('USC00519281', '2017-07-21', 25.0),\n",
       " ('USC00519281', '2017-07-22', 25.0),\n",
       " ('USC00519281', '2017-07-23', 27.8),\n",
       " ('USC00519281', '2017-07-24', 23.9),\n",
       " ('USC00519281', '2017-07-25', 25.0),\n",
       " ('USC00519281', '2017-07-26', 23.9),\n",
       " ('USC00519281', '2017-07-27', 24.4),\n",
       " ('USC00519281', '2017-07-28', 27.2),\n",
       " ('USC00519281', '2017-07-29', 27.8),\n",
       " ('USC00519281', '2017-07-30', 27.2),\n",
       " ('USC00519281', '2017-07-31', 24.4),\n",
       " ('USC00519281', '2017-08-04', 25.0),\n",
       " ('USC00519281', '2017-08-05', 27.8),\n",
       " ('USC00519281', '2017-08-06', 28.3),\n",
       " ('USC00519281', '2017-08-13', 25.0),\n",
       " ('USC00519281', '2017-08-14', 25.0),\n",
       " ('USC00519281', '2017-08-15', 25.0),\n",
       " ('USC00519281', '2017-08-16', 24.4),\n",
       " ('USC00519281', '2017-08-17', 24.4),\n",
       " ('USC00519281', '2017-08-18', 26.1)]"
      ]
     },
     "execution_count": 18,
     "metadata": {},
     "output_type": "execute_result"
    }
   ],
   "source": [
    "# Using the most active station id\n",
    "# Query the last 12 months of temperature observation data for this station and plot the results as a histogram\n",
    "temp_most_active_station_year = [Measurement.station, Measurement.date, Measurement.tobs]\n",
    "\n",
    "temp_over_year_most_active_station = session.query(*temp_most_active_station_year).\\\n",
    "        filter(Measurement.station == 'USC00519281').\\\n",
    "        filter(func.strftime(Measurement.date) > \"2016-08-22\").\\\n",
    "        filter(func.strftime(Measurement.date) < \"2017-08-24\").all()\n",
    "temp_over_year_most_active_station"
   ]
  },
  {
   "cell_type": "code",
   "execution_count": 19,
   "metadata": {},
   "outputs": [
    {
     "data": {
      "text/plain": [
       "<function matplotlib.pyplot.show(close=None, block=None)>"
      ]
     },
     "execution_count": 19,
     "metadata": {},
     "output_type": "execute_result"
    },
    {
     "data": {
      "image/png": "[encoded data removed]",
      "text/plain": [
       "<Figure size 640x480 with 1 Axes>"
      ]
     },
     "metadata": {},
     "output_type": "display_data"
    }
   ],
   "source": [
    "temp_over_year_most_active_station_df = pd.DataFrame(temp_over_year_most_active_station, columns=['station', 'date', 'tobs'])\n",
    "temp_over_year_most_active_station_df.dropna(inplace=True)\n",
    "temp_over_year_most_active_station_df.head()\n",
    "\n",
    "plt.hist(temp_over_year_most_active_station_df[\"tobs\"], bins=12, alpha=0.8)\n",
    "plt.xlabel('Temperature')\n",
    "plt.ylabel(\"Frequency\")\n",
    "plt.legend(['tobs'], loc='best')\n",
    "plt.tight_layout()\n",
    "plt.show"
   ]
  },
  {
   "cell_type": "markdown",
   "metadata": {},
   "source": [
    "# Close Session"
   ]
  },
  {
   "cell_type": "code",
   "execution_count": 20,
   "metadata": {},
   "outputs": [],
   "source": [
    "# Close Session\n",
    "session.close()"
   ]
  },
  {
   "cell_type": "code",
   "execution_count": null,
   "metadata": {},
   "outputs": [],
   "source": []
  },
  {
   "cell_type": "code",
   "execution_count": null,
   "metadata": {},
   "outputs": [],
   "source": []
  }
 ],
 "metadata": {
  "anaconda-cloud": {},
  "kernel_info": {
   "name": "python3"
  },
  "kernelspec": {
   "display_name": "Python 3 (ipykernel)",
   "language": "python",
   "name": "python3"
  },
  "language_info": {
   "codemirror_mode": {
    "name": "ipython",
    "version": 3
   },
   "file_extension": ".py",
   "mimetype": "text/x-python",
   "name": "python",
   "nbconvert_exporter": "python",
   "pygments_lexer": "ipython3",
   "version": "3.11.3"
  },
  "nteract": {
   "version": "0.12.3"
  },
  "varInspector": {
   "cols": {
    "lenName": 16,
    "lenType": 16,
    "lenVar": 40
   },
   "kernels_config": {
    "python": {
     "delete_cmd_postfix": "",
     "delete_cmd_prefix": "del ",
     "library": "var_list.py",
     "varRefreshCmd": "print(var_dic_list())"
    },
    "r": {
     "delete_cmd_postfix": ") ",
     "delete_cmd_prefix": "rm(",
     "library": "var_list.r",
     "varRefreshCmd": "cat(var_dic_list()) "
    }
   },
   "types_to_exclude": [
    "module",
    "function",
    "builtin_function_or_method",
    "instance",
    "_Feature"
   ],
   "window_display": false
  }
 },
 "nbformat": 4,
 "nbformat_minor": 2
}
